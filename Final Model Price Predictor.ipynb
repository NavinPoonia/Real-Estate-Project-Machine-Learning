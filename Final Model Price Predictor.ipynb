{
 "cells": [
  {
   "cell_type": "code",
   "execution_count": 55,
   "id": "b1ed773a",
   "metadata": {},
   "outputs": [],
   "source": [
    "from joblib import load\n",
    "import numpy as np\n",
    "model = load('Dragon.joblib')\n"
   ]
  },
  {
   "cell_type": "code",
   "execution_count": 60,
   "id": "c4e3b069",
   "metadata": {},
   "outputs": [],
   "source": [
    "# Input New Features as array\n",
    "\n",
    "features = np.array([[-0.44228927, 0.9898311 , -1.37640684, -0.27288841, -0.34321545,\n",
    "        50.615236 , -0.33092752,  2.20235683, -1.0016859 ,  0.05733231,\n",
    "       -1.21003475,  10.38110555, 0.57309194]])"
   ]
  },
  {
   "cell_type": "code",
   "execution_count": 61,
   "id": "be6cccc0",
   "metadata": {},
   "outputs": [
    {
     "data": {
      "text/plain": [
       "array([30.598])"
      ]
     },
     "execution_count": 61,
     "metadata": {},
     "output_type": "execute_result"
    }
   ],
   "source": [
    "model.predict(features)"
   ]
  },
  {
   "cell_type": "code",
   "execution_count": null,
   "id": "252b3e7b",
   "metadata": {},
   "outputs": [],
   "source": []
  }
 ],
 "metadata": {
  "kernelspec": {
   "display_name": "Python 3",
   "language": "python",
   "name": "python3"
  },
  "language_info": {
   "codemirror_mode": {
    "name": "ipython",
    "version": 3
   },
   "file_extension": ".py",
   "mimetype": "text/x-python",
   "name": "python",
   "nbconvert_exporter": "python",
   "pygments_lexer": "ipython3",
   "version": "3.9.4"
  }
 },
 "nbformat": 4,
 "nbformat_minor": 5
}
